{
 "cells": [
  {
   "cell_type": "markdown",
   "metadata": {
    "editable": true
   },
   "source": [
    "# Deployment"
   ]
  },
  {
   "cell_type": "markdown",
   "metadata": {
    "editable": true
   },
   "source": [
    "Before running the below command run `aws configure`  in the command line"
   ]
  },
  {
   "cell_type": "markdown",
   "metadata": {
    "editable": true
   },
   "source": [
    "## Copy etl.py file to S3 "
   ]
  },
  {
   "cell_type": "code",
   "execution_count": 6,
   "metadata": {
    "editable": true
   },
   "outputs": [
    {
     "name": "stdout",
     "output_type": "stream",
     "text": [
      "upload: ./s3_etl.py to s3://wejdan-udacity-dend/src/s3_etl.py  \n"
     ]
    }
   ],
   "source": [
    "!aws s3 cp /home/workspace/s3_etl.py s3://wejdan-udacity-dend/src/"
   ]
  },
  {
   "cell_type": "code",
   "execution_count": 5,
   "metadata": {
    "editable": true
   },
   "outputs": [
    {
     "name": "stdout",
     "output_type": "stream",
     "text": [
      "upload: ./bootstrap_emr.sh to s3://wejdan-udacity-dend/bootstrap_emr.sh\n"
     ]
    }
   ],
   "source": [
    "#upload the bootstrap file to s3\n",
    "#!aws s3 cp /home/workspace/bootstrap_emr.sh s3://wejdan-udacity-dend/"
   ]
  },
  {
   "cell_type": "markdown",
   "metadata": {
    "editable": true
   },
   "source": [
    "## Run EMR create script with the etl job"
   ]
  },
  {
   "cell_type": "code",
   "execution_count": 5,
   "metadata": {
    "editable": true
   },
   "outputs": [
    {
     "name": "stdout",
     "output_type": "stream",
     "text": [
      "{\n",
      "    \"ClusterId\": \"j-3EEEAFAU62U9D\"\n",
      "}\n"
     ]
    }
   ],
   "source": [
    "!(aws emr create-cluster --name \"song-spark-cluster\" \\\n",
    "    --release-label emr-5.30.1 \\\n",
    "    --applications Name=Spark \\\n",
    "    --log-uri s3://wejdan-udacity-dend/logs/ \\\n",
    "    --ec2-attributes KeyName=spark-cluster\\\n",
    "    --instance-type m5.xlarge \\\n",
    "    --instance-count 3 \\\n",
    "    --steps Type=Spark,Name=\"Spark program\",ActionOnFailure=CONTINUE,Args=[--deploy-mode,cluster,--master,yarn,s3://wejdan-udacity-dend/src/s3_etl.py] \\\n",
    "    --use-default-roles \\\n",
    "    --auto-terminate)"
   ]
  },
  {
   "cell_type": "code",
   "execution_count": null,
   "metadata": {
    "editable": true
   },
   "outputs": [],
   "source": [
    "#add below line if you want to add the bootstrap file\n",
    "#--bootstrap-actions Path=s3://wejdan-udacity-dend/emr_bootstrap.sh \\\n"
   ]
  }
 ],
 "metadata": {
  "kernelspec": {
   "display_name": "Python 3",
   "language": "python",
   "name": "python3"
  },
  "language_info": {
   "codemirror_mode": {
    "name": "ipython",
    "version": 3
   },
   "file_extension": ".py",
   "mimetype": "text/x-python",
   "name": "python",
   "nbconvert_exporter": "python",
   "pygments_lexer": "ipython3",
   "version": "3.6.3"
  }
 },
 "nbformat": 4,
 "nbformat_minor": 4
}
